{
 "cells": [
  {
   "cell_type": "code",
   "execution_count": 1,
   "metadata": {},
   "outputs": [],
   "source": [
    "import polars as pl"
   ]
  },
  {
   "cell_type": "code",
   "execution_count": 2,
   "metadata": {},
   "outputs": [],
   "source": [
    "df = pl.read_csv(\"data/sg_2018.csv\", try_parse_dates=True)"
   ]
  },
  {
   "cell_type": "code",
   "execution_count": 3,
   "metadata": {},
   "outputs": [
    {
     "data": {
      "text/html": [
       "<div><style>\n",
       ".dataframe > thead > tr > th,\n",
       ".dataframe > tbody > tr > td {\n",
       "  text-align: right;\n",
       "}\n",
       "</style>\n",
       "<small>shape: (8760, 23)</small><table border=\"1\" class=\"dataframe\"><thead><tr><th>Year</th><th>Month</th><th>Day</th><th>Hour</th><th>Minute</th><th>Clearsky DHI</th><th>Clearsky DNI</th><th>Clearsky GHI</th><th>Cloud Type</th><th>Fill Flag</th><th>Ozone</th><th>Solar Zenith Angle</th><th>Precipitable Water</th><th>Temperature</th><th>Dew Point</th><th>DHI</th><th>DNI</th><th>GHI</th><th>Relative Humidity</th><th>Surface Albedo</th><th>Pressure</th><th>Wind Direction</th><th>Wind Speed</th></tr><tr><td>i64</td><td>i64</td><td>i64</td><td>i64</td><td>i64</td><td>i64</td><td>i64</td><td>i64</td><td>i64</td><td>i64</td><td>f64</td><td>f64</td><td>f64</td><td>f64</td><td>f64</td><td>i64</td><td>i64</td><td>i64</td><td>f64</td><td>f64</td><td>i64</td><td>i64</td><td>f64</td></tr></thead><tbody><tr><td>2018</td><td>1</td><td>1</td><td>0</td><td>0</td><td>0</td><td>0</td><td>0</td><td>7</td><td>0</td><td>0.25</td><td>152.74</td><td>5.9</td><td>25.9</td><td>25.5</td><td>0</td><td>0</td><td>0</td><td>97.47</td><td>0.14</td><td>1009</td><td>339</td><td>2.8</td></tr><tr><td>2018</td><td>1</td><td>1</td><td>1</td><td>0</td><td>0</td><td>0</td><td>0</td><td>6</td><td>0</td><td>0.251</td><td>158.19</td><td>5.9</td><td>25.8</td><td>25.3</td><td>0</td><td>0</td><td>0</td><td>97.36</td><td>0.14</td><td>1008</td><td>341</td><td>3.0</td></tr><tr><td>2018</td><td>1</td><td>1</td><td>2</td><td>0</td><td>0</td><td>0</td><td>0</td><td>7</td><td>0</td><td>0.251</td><td>154.87</td><td>5.9</td><td>25.7</td><td>25.2</td><td>0</td><td>0</td><td>0</td><td>97.03</td><td>0.14</td><td>1008</td><td>345</td><td>3.2</td></tr><tr><td>2018</td><td>1</td><td>1</td><td>3</td><td>0</td><td>0</td><td>0</td><td>0</td><td>7</td><td>0</td><td>0.25</td><td>145.21</td><td>5.9</td><td>25.6</td><td>25.1</td><td>0</td><td>0</td><td>0</td><td>96.91</td><td>0.14</td><td>1007</td><td>347</td><td>3.3</td></tr><tr><td>2018</td><td>1</td><td>1</td><td>4</td><td>0</td><td>0</td><td>0</td><td>0</td><td>6</td><td>0</td><td>0.25</td><td>132.99</td><td>5.8</td><td>25.5</td><td>24.9</td><td>0</td><td>0</td><td>0</td><td>96.74</td><td>0.14</td><td>1007</td><td>348</td><td>3.0</td></tr><tr><td>2018</td><td>1</td><td>1</td><td>5</td><td>0</td><td>0</td><td>0</td><td>0</td><td>7</td><td>0</td><td>0.25</td><td>119.78</td><td>5.7</td><td>25.3</td><td>24.8</td><td>0</td><td>0</td><td>0</td><td>96.93</td><td>0.14</td><td>1007</td><td>345</td><td>2.6</td></tr><tr><td>2018</td><td>1</td><td>1</td><td>6</td><td>0</td><td>0</td><td>0</td><td>0</td><td>7</td><td>0</td><td>0.25</td><td>106.15</td><td>5.6</td><td>25.2</td><td>24.6</td><td>0</td><td>0</td><td>0</td><td>96.51</td><td>0.14</td><td>1008</td><td>337</td><td>2.4</td></tr><tr><td>2018</td><td>1</td><td>1</td><td>7</td><td>0</td><td>0</td><td>0</td><td>0</td><td>7</td><td>0</td><td>0.251</td><td>92.37</td><td>5.6</td><td>25.4</td><td>24.6</td><td>0</td><td>0</td><td>0</td><td>95.3</td><td>0.14</td><td>1009</td><td>327</td><td>2.4</td></tr><tr><td>2018</td><td>1</td><td>1</td><td>8</td><td>0</td><td>66</td><td>370</td><td>139</td><td>9</td><td>3</td><td>0.235</td><td>78.56</td><td>6.3</td><td>25.4</td><td>24.8</td><td>7</td><td>0</td><td>7</td><td>96.38</td><td>0.14</td><td>1005</td><td>359</td><td>2.2</td></tr><tr><td>2018</td><td>1</td><td>1</td><td>9</td><td>0</td><td>110</td><td>609</td><td>368</td><td>9</td><td>0</td><td>0.235</td><td>65.0</td><td>6.4</td><td>25.8</td><td>25.0</td><td>17</td><td>0</td><td>17</td><td>95.09</td><td>0.14</td><td>1006</td><td>1</td><td>1.8</td></tr><tr><td>2018</td><td>1</td><td>1</td><td>10</td><td>0</td><td>137</td><td>730</td><td>588</td><td>9</td><td>0</td><td>0.235</td><td>51.83</td><td>6.5</td><td>26.0</td><td>25.0</td><td>33</td><td>0</td><td>33</td><td>94.17</td><td>0.14</td><td>1006</td><td>355</td><td>1.3</td></tr><tr><td>2018</td><td>1</td><td>1</td><td>11</td><td>0</td><td>155</td><td>792</td><td>766</td><td>6</td><td>0</td><td>0.234</td><td>39.57</td><td>6.5</td><td>26.3</td><td>25.0</td><td>133</td><td>0</td><td>133</td><td>92.63</td><td>0.14</td><td>1006</td><td>340</td><td>1.0</td></tr><tr><td>&hellip;</td><td>&hellip;</td><td>&hellip;</td><td>&hellip;</td><td>&hellip;</td><td>&hellip;</td><td>&hellip;</td><td>&hellip;</td><td>&hellip;</td><td>&hellip;</td><td>&hellip;</td><td>&hellip;</td><td>&hellip;</td><td>&hellip;</td><td>&hellip;</td><td>&hellip;</td><td>&hellip;</td><td>&hellip;</td><td>&hellip;</td><td>&hellip;</td><td>&hellip;</td><td>&hellip;</td><td>&hellip;</td></tr><tr><td>2018</td><td>12</td><td>31</td><td>12</td><td>0</td><td>163</td><td>833</td><td>888</td><td>8</td><td>0</td><td>0.253</td><td>29.46</td><td>5.8</td><td>28.4</td><td>25.6</td><td>440</td><td>97</td><td>524</td><td>84.7</td><td>0.14</td><td>1009</td><td>338</td><td>3.4</td></tr><tr><td>2018</td><td>12</td><td>31</td><td>13</td><td>0</td><td>171</td><td>838</td><td>934</td><td>8</td><td>0</td><td>0.251</td><td>24.5</td><td>5.8</td><td>28.8</td><td>25.5</td><td>345</td><td>22</td><td>365</td><td>82.6</td><td>0.14</td><td>1008</td><td>336</td><td>3.2</td></tr><tr><td>2018</td><td>12</td><td>31</td><td>14</td><td>0</td><td>178</td><td>818</td><td>903</td><td>7</td><td>0</td><td>0.25</td><td>27.55</td><td>5.8</td><td>29.0</td><td>25.5</td><td>244</td><td>11</td><td>254</td><td>81.49</td><td>0.14</td><td>1007</td><td>335</td><td>3.0</td></tr><tr><td>2018</td><td>12</td><td>31</td><td>15</td><td>0</td><td>173</td><td>782</td><td>800</td><td>6</td><td>0</td><td>0.249</td><td>36.65</td><td>5.9</td><td>28.9</td><td>25.6</td><td>226</td><td>9</td><td>234</td><td>82.37</td><td>0.14</td><td>1006</td><td>336</td><td>2.6</td></tr><tr><td>2018</td><td>12</td><td>31</td><td>16</td><td>0</td><td>161</td><td>713</td><td>634</td><td>6</td><td>0</td><td>0.249</td><td>48.48</td><td>5.9</td><td>28.7</td><td>25.7</td><td>126</td><td>0</td><td>126</td><td>83.97</td><td>0.14</td><td>1006</td><td>342</td><td>2.4</td></tr><tr><td>2018</td><td>12</td><td>31</td><td>17</td><td>0</td><td>141</td><td>584</td><td>420</td><td>7</td><td>0</td><td>0.248</td><td>61.46</td><td>6.0</td><td>28.2</td><td>25.8</td><td>22</td><td>0</td><td>22</td><td>86.89</td><td>0.14</td><td>1007</td><td>349</td><td>2.3</td></tr><tr><td>2018</td><td>12</td><td>31</td><td>18</td><td>0</td><td>97</td><td>359</td><td>190</td><td>7</td><td>3</td><td>0.247</td><td>74.95</td><td>6.0</td><td>27.5</td><td>26.0</td><td>55</td><td>0</td><td>55</td><td>91.37</td><td>0.14</td><td>1008</td><td>355</td><td>2.2</td></tr><tr><td>2018</td><td>12</td><td>31</td><td>19</td><td>0</td><td>10</td><td>9</td><td>10</td><td>7</td><td>3</td><td>0.247</td><td>88.42</td><td>6.0</td><td>26.9</td><td>25.9</td><td>5</td><td>7</td><td>5</td><td>94.11</td><td>0.14</td><td>1009</td><td>358</td><td>2.2</td></tr><tr><td>2018</td><td>12</td><td>31</td><td>20</td><td>0</td><td>0</td><td>0</td><td>0</td><td>7</td><td>0</td><td>0.247</td><td>102.53</td><td>5.9</td><td>26.6</td><td>25.8</td><td>0</td><td>0</td><td>0</td><td>95.5</td><td>0.14</td><td>1010</td><td>356</td><td>2.3</td></tr><tr><td>2018</td><td>12</td><td>31</td><td>21</td><td>0</td><td>0</td><td>0</td><td>0</td><td>7</td><td>0</td><td>0.248</td><td>116.21</td><td>5.9</td><td>26.3</td><td>25.7</td><td>0</td><td>0</td><td>0</td><td>96.76</td><td>0.14</td><td>1010</td><td>349</td><td>2.3</td></tr><tr><td>2018</td><td>12</td><td>31</td><td>22</td><td>0</td><td>0</td><td>0</td><td>0</td><td>6</td><td>0</td><td>0.249</td><td>129.56</td><td>5.9</td><td>26.2</td><td>25.7</td><td>0</td><td>0</td><td>0</td><td>96.92</td><td>0.14</td><td>1010</td><td>342</td><td>2.4</td></tr><tr><td>2018</td><td>12</td><td>31</td><td>23</td><td>0</td><td>0</td><td>0</td><td>0</td><td>7</td><td>0</td><td>0.249</td><td>142.14</td><td>5.9</td><td>26.0</td><td>25.6</td><td>0</td><td>0</td><td>0</td><td>97.59</td><td>0.14</td><td>1010</td><td>339</td><td>2.6</td></tr></tbody></table></div>"
      ],
      "text/plain": [
       "shape: (8_760, 23)\n",
       "┌──────┬───────┬─────┬──────┬───┬────────────────┬──────────┬────────────────┬────────────┐\n",
       "│ Year ┆ Month ┆ Day ┆ Hour ┆ … ┆ Surface Albedo ┆ Pressure ┆ Wind Direction ┆ Wind Speed │\n",
       "│ ---  ┆ ---   ┆ --- ┆ ---  ┆   ┆ ---            ┆ ---      ┆ ---            ┆ ---        │\n",
       "│ i64  ┆ i64   ┆ i64 ┆ i64  ┆   ┆ f64            ┆ i64      ┆ i64            ┆ f64        │\n",
       "╞══════╪═══════╪═════╪══════╪═══╪════════════════╪══════════╪════════════════╪════════════╡\n",
       "│ 2018 ┆ 1     ┆ 1   ┆ 0    ┆ … ┆ 0.14           ┆ 1009     ┆ 339            ┆ 2.8        │\n",
       "│ 2018 ┆ 1     ┆ 1   ┆ 1    ┆ … ┆ 0.14           ┆ 1008     ┆ 341            ┆ 3.0        │\n",
       "│ 2018 ┆ 1     ┆ 1   ┆ 2    ┆ … ┆ 0.14           ┆ 1008     ┆ 345            ┆ 3.2        │\n",
       "│ 2018 ┆ 1     ┆ 1   ┆ 3    ┆ … ┆ 0.14           ┆ 1007     ┆ 347            ┆ 3.3        │\n",
       "│ …    ┆ …     ┆ …   ┆ …    ┆ … ┆ …              ┆ …        ┆ …              ┆ …          │\n",
       "│ 2018 ┆ 12    ┆ 31  ┆ 20   ┆ … ┆ 0.14           ┆ 1010     ┆ 356            ┆ 2.3        │\n",
       "│ 2018 ┆ 12    ┆ 31  ┆ 21   ┆ … ┆ 0.14           ┆ 1010     ┆ 349            ┆ 2.3        │\n",
       "│ 2018 ┆ 12    ┆ 31  ┆ 22   ┆ … ┆ 0.14           ┆ 1010     ┆ 342            ┆ 2.4        │\n",
       "│ 2018 ┆ 12    ┆ 31  ┆ 23   ┆ … ┆ 0.14           ┆ 1010     ┆ 339            ┆ 2.6        │\n",
       "└──────┴───────┴─────┴──────┴───┴────────────────┴──────────┴────────────────┴────────────┘"
      ]
     },
     "execution_count": 3,
     "metadata": {},
     "output_type": "execute_result"
    }
   ],
   "source": [
    "df"
   ]
  },
  {
   "cell_type": "code",
   "execution_count": null,
   "metadata": {},
   "outputs": [],
   "source": []
  }
 ],
 "metadata": {
  "kernelspec": {
   "display_name": "pv-prediction-gbM1emAE-py3.10",
   "language": "python",
   "name": "python3"
  },
  "language_info": {
   "codemirror_mode": {
    "name": "ipython",
    "version": 3
   },
   "file_extension": ".py",
   "mimetype": "text/x-python",
   "name": "python",
   "nbconvert_exporter": "python",
   "pygments_lexer": "ipython3",
   "version": "3.10.10"
  },
  "orig_nbformat": 4
 },
 "nbformat": 4,
 "nbformat_minor": 2
}
