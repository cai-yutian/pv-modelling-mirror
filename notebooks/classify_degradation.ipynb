{
 "cells": [
  {
   "cell_type": "code",
   "execution_count": 6,
   "metadata": {},
   "outputs": [],
   "source": [
    "# Imports and Configurations\n",
    "\n",
    "import numpy as np\n",
    "import pandas as pd\n",
    "import rdtools\n",
    "import matplotlib.pyplot as plt\n",
    "\n",
    "# Paths for data files\n",
    "data_dir = \"../data/pvwatts/\"\n",
    "\n",
    "# Set the random seed for numpy to ensure consistent results\n",
    "np.random.seed(0)\n",
    "\n",
    "#Update the style of plots\n",
    "plt.rcParams.update({'font.size': 12,\n",
    "                           'figure.figsize': [20, 10],\n",
    "                           'lines.markeredgewidth': 0,\n",
    "                           'lines.markersize': 2\n",
    "                           })\n",
    "# Register time series plotting in pandas > 1.0\n",
    "from pandas.plotting import register_matplotlib_converters\n",
    "register_matplotlib_converters()"
   ]
  },
  {
   "cell_type": "code",
   "execution_count": 4,
   "metadata": {},
   "outputs": [],
   "source": [
    "# Load a sample data series \n",
    "sample_data = np.load(\"../data/pvwatts/processed_monthly_fast_pid/system_capacity10_module_type0_array_type0_tilt10_fast_pid.npy\")"
   ]
  },
  {
   "cell_type": "code",
   "execution_count": null,
   "metadata": {},
   "outputs": [],
   "source": []
  }
 ],
 "metadata": {
  "kernelspec": {
   "display_name": "pv-power-modelling-fnvstf6C-py3.10",
   "language": "python",
   "name": "python3"
  },
  "language_info": {
   "codemirror_mode": {
    "name": "ipython",
    "version": 3
   },
   "file_extension": ".py",
   "mimetype": "text/x-python",
   "name": "python",
   "nbconvert_exporter": "python",
   "pygments_lexer": "ipython3",
   "version": "3.10.10"
  },
  "orig_nbformat": 4
 },
 "nbformat": 4,
 "nbformat_minor": 2
}
